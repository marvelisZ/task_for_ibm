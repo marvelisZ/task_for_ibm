{
 "cells": [
  {
   "cell_type": "markdown",
   "id": "f8b1f552",
   "metadata": {},
   "source": [
    "# Data Science Tools and Ecosystem"
   ]
  },
  {
   "cell_type": "markdown",
   "id": "a4193356",
   "metadata": {},
   "source": [
    "In this notebook, Data Science Tools and Ecosystem are summarized."
   ]
  },
  {
   "cell_type": "markdown",
   "id": "05176640",
   "metadata": {},
   "source": [
    "_Objectives:_\n",
    "+ List popular languages for Data Science\n",
    "+ Commonly used libraries used by Data Scientists\n",
    "+ Examples"
   ]
  },
  {
   "cell_type": "markdown",
   "id": "2f613467",
   "metadata": {},
   "source": [
    "Some of the popular languages that Data Scientists use are:\n",
    "1. Python\n",
    "2. R\n",
    "3. Scala\n",
    "4. Java"
   ]
  },
  {
   "cell_type": "markdown",
   "id": "2f8283f8",
   "metadata": {},
   "source": [
    "Some of the commonly used libraries used by Data Scientists include:\n",
    "1. pytorch\n",
    "2. marplotlib\n",
    "3. pandas"
   ]
  },
  {
   "cell_type": "markdown",
   "id": "45345b87",
   "metadata": {},
   "source": [
    "| Data Science Tools|\n",
    "| ----------------- |\n",
    "| MySQL |\n",
    "| Apache Airflow |\n",
    "| Git |"
   ]
  },
  {
   "cell_type": "markdown",
   "id": "77fe53b9",
   "metadata": {},
   "source": [
    "### Below are a few examples of evaluating arithmetic expressions in Python"
   ]
  },
  {
   "cell_type": "markdown",
   "id": "c1740152",
   "metadata": {},
   "source": [
    "_This a simple arithmetic expression to mutiply then add integers_"
   ]
  },
  {
   "cell_type": "code",
   "execution_count": 4,
   "id": "b01dd69c",
   "metadata": {},
   "outputs": [
    {
     "data": {
      "text/plain": [
       "17"
      ]
     },
     "execution_count": 4,
     "metadata": {},
     "output_type": "execute_result"
    }
   ],
   "source": [
    "(3*4)+5"
   ]
  },
  {
   "cell_type": "markdown",
   "id": "ce1691f3",
   "metadata": {},
   "source": [
    "_This will convert 200 minutes to hours by diving by 60_"
   ]
  },
  {
   "cell_type": "code",
   "execution_count": 5,
   "id": "c29d1f0d",
   "metadata": {},
   "outputs": [
    {
     "data": {
      "text/plain": [
       "3.3333333333333335"
      ]
     },
     "execution_count": 5,
     "metadata": {},
     "output_type": "execute_result"
    }
   ],
   "source": [
    "200/60"
   ]
  },
  {
   "cell_type": "markdown",
   "id": "1763a0de",
   "metadata": {},
   "source": [
    "## Author\n",
    "Maryna Vasylchuk"
   ]
  },
  {
   "cell_type": "code",
   "execution_count": null,
   "id": "50eecd53",
   "metadata": {},
   "outputs": [],
   "source": []
  }
 ],
 "metadata": {
  "kernelspec": {
   "display_name": "Python 3 (ipykernel)",
   "language": "python",
   "name": "python3"
  },
  "language_info": {
   "codemirror_mode": {
    "name": "ipython",
    "version": 3
   },
   "file_extension": ".py",
   "mimetype": "text/x-python",
   "name": "python",
   "nbconvert_exporter": "python",
   "pygments_lexer": "ipython3",
   "version": "3.11.5"
  }
 },
 "nbformat": 4,
 "nbformat_minor": 5
}
